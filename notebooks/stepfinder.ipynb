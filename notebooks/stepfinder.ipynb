{
 "cells": [
  {
   "cell_type": "markdown",
   "metadata": {},
   "source": [
    "# stepfinder, find steps in data with SNR below 1.0"
   ]
  },
  {
   "cell_type": "raw",
   "metadata": {},
   "source": [
    "stepfinder, find steps in data with SNR below 1.0\n",
    "Copyright 2016,2017,2018,2019 Tobias Jachowski\n",
    "\n",
    "Licensed under the Apache License, Version 2.0 (the \"License\");\n",
    "you may not use this file except in compliance with the License.\n",
    "You may obtain a copy of the License at\n",
    "\n",
    "  http://www.apache.org/licenses/LICENSE-2.0\n",
    "\n",
    "Unless required by applicable law or agreed to in writing, software\n",
    "distributed under the License is distributed on an \"AS IS\" BASIS,\n",
    "WITHOUT WARRANTIES OR CONDITIONS OF ANY KIND, either express or implied.\n",
    "See the License for the specific language governing permissions and\n",
    "limitations under the License."
   ]
  },
  {
   "cell_type": "markdown",
   "metadata": {},
   "source": [
    "## Import stepfinder and other packages ..."
   ]
  },
  {
   "cell_type": "code",
   "execution_count": 1,
   "metadata": {},
   "outputs": [
    {
     "data": {
      "text/html": [
       "<style>.container { width:90% !important; }</style>"
      ],
      "text/plain": [
       "<IPython.core.display.HTML object>"
      ]
     },
     "metadata": {},
     "output_type": "display_data"
    }
   ],
   "source": [
    "# Import necessary modules and functions \n",
    "import matplotlib\n",
    "matplotlib.use('module://ipympl.backend_nbagg')\n",
    "import numpy as np\n",
    "import os\n",
    "from matplotlib import pyplot as plt\n",
    "\n",
    "# Import stepfinder software\n",
    "import sys\n",
    "sys.path.append('..')\n",
    "import stepfinder as sf\n",
    "\n",
    "from IPython.core.display import display, HTML\n",
    "display(HTML(\"<style>.container { width:90% !important; }</style>\"))"
   ]
  },
  {
   "cell_type": "markdown",
   "metadata": {},
   "source": [
    "## Show stepfinder usage information ..."
   ]
  },
  {
   "cell_type": "code",
   "execution_count": 2,
   "metadata": {},
   "outputs": [
    {
     "data": {
      "text/plain": [
       "\u001b[0;31mSignature:\u001b[0m\n",
       "\u001b[0msf\u001b[0m\u001b[0;34m.\u001b[0m\u001b[0mfilter_find_analyse_steps\u001b[0m\u001b[0;34m(\u001b[0m\u001b[0;34m\u001b[0m\n",
       "\u001b[0;34m\u001b[0m    \u001b[0mdata\u001b[0m\u001b[0;34m,\u001b[0m\u001b[0;34m\u001b[0m\n",
       "\u001b[0;34m\u001b[0m    \u001b[0mresolution\u001b[0m\u001b[0;34m,\u001b[0m\u001b[0;34m\u001b[0m\n",
       "\u001b[0;34m\u001b[0m    \u001b[0mfilter_time\u001b[0m\u001b[0;34m=\u001b[0m\u001b[0;32mNone\u001b[0m\u001b[0;34m,\u001b[0m\u001b[0;34m\u001b[0m\n",
       "\u001b[0;34m\u001b[0m    \u001b[0mfilter_min_t\u001b[0m\u001b[0;34m=\u001b[0m\u001b[0;32mNone\u001b[0m\u001b[0;34m,\u001b[0m\u001b[0;34m\u001b[0m\n",
       "\u001b[0;34m\u001b[0m    \u001b[0mfilter_max_t\u001b[0m\u001b[0;34m=\u001b[0m\u001b[0;32mNone\u001b[0m\u001b[0;34m,\u001b[0m\u001b[0;34m\u001b[0m\n",
       "\u001b[0;34m\u001b[0m    \u001b[0mfilter_number\u001b[0m\u001b[0;34m=\u001b[0m\u001b[0;32mNone\u001b[0m\u001b[0;34m,\u001b[0m\u001b[0;34m\u001b[0m\n",
       "\u001b[0;34m\u001b[0m    \u001b[0medginess\u001b[0m\u001b[0;34m=\u001b[0m\u001b[0;32mNone\u001b[0m\u001b[0;34m,\u001b[0m\u001b[0;34m\u001b[0m\n",
       "\u001b[0;34m\u001b[0m    \u001b[0mexpected_min_step_size\u001b[0m\u001b[0;34m=\u001b[0m\u001b[0;32mNone\u001b[0m\u001b[0;34m,\u001b[0m\u001b[0;34m\u001b[0m\n",
       "\u001b[0;34m\u001b[0m    \u001b[0mexpected_min_dwell_t\u001b[0m\u001b[0;34m=\u001b[0m\u001b[0;32mNone\u001b[0m\u001b[0;34m,\u001b[0m\u001b[0;34m\u001b[0m\n",
       "\u001b[0;34m\u001b[0m    \u001b[0mstep_size_threshold\u001b[0m\u001b[0;34m=\u001b[0m\u001b[0;32mNone\u001b[0m\u001b[0;34m,\u001b[0m\u001b[0;34m\u001b[0m\n",
       "\u001b[0;34m\u001b[0m    \u001b[0mcap_data\u001b[0m\u001b[0;34m=\u001b[0m\u001b[0;32mTrue\u001b[0m\u001b[0;34m,\u001b[0m\u001b[0;34m\u001b[0m\n",
       "\u001b[0;34m\u001b[0m    \u001b[0mverbose\u001b[0m\u001b[0;34m=\u001b[0m\u001b[0;32mTrue\u001b[0m\u001b[0;34m,\u001b[0m\u001b[0;34m\u001b[0m\n",
       "\u001b[0;34m\u001b[0m    \u001b[0mplot\u001b[0m\u001b[0;34m=\u001b[0m\u001b[0;32mTrue\u001b[0m\u001b[0;34m,\u001b[0m\u001b[0;34m\u001b[0m\n",
       "\u001b[0;34m\u001b[0m\u001b[0;34m)\u001b[0m\u001b[0;34m\u001b[0m\u001b[0;34m\u001b[0m\u001b[0m\n",
       "\u001b[0;31mDocstring:\u001b[0m\n",
       "Fiter data, find steps and analyse the steps. See notes for further\n",
       "explanation.\n",
       "\n",
       "Parameters\n",
       "----------\n",
       "data : numpy.ndarray of type float\n",
       "    data to be filtered.\n",
       "resolution : float\n",
       "    The resolution of the data in Hz.\n",
       "filter_time : float, optional\n",
       "    The filter time used to filter the data for the edge detector. Set it\n",
       "    to overwrite the automatically detected optimal filter time. Otherwise,\n",
       "    the optimal `filter_time` is automatically detected  based on the STD\n",
       "    of the step_mass from different tested times (see parameters\n",
       "    `filter_min_t`, `filter_max_t` and `filter_number`)\n",
       "    You only should set the time manually, if you know that it performs\n",
       "    well with the given data. A good rule of thumb is to set the\n",
       "    filter_time to 1/2 the time of the expected minimum dwell time. Higher\n",
       "    values lead to better averaging, but can miss steps. REMARK: Shorter\n",
       "    spaced steps can still be found if step direction switches. See also\n",
       "    the parameter `expected_min_dwell_t`.\n",
       "filter_min_t : float, optional\n",
       "    The shortest time of the window in s with which the datapoints are\n",
       "    filtered.\n",
       "filter_max_t : float, optional\n",
       "    The longest time of the window in s with which the datapoints are\n",
       "    filtered. You need to also set `filter_number` to make this parameter\n",
       "    effective. Defaults to `filter_min_t`.\n",
       "filter_number : int, optional\n",
       "    Number of filters used to determine the optimal filter window length.\n",
       "    Defaults to 1.\n",
       "edginess : float, optional\n",
       "    The edginess (nonlinearity factor p in Chung1991) of the filtered data.\n",
       "    The edginess only affects the filtered data, but not the detection of\n",
       "    the steps itself. An edginess of 0 will smooth out edges, like a simple\n",
       "    moving mean filter. A higher edginess will preserve edges. A too high\n",
       "    edginess will cause ripples due to amplification of edges of noise.\n",
       "    From the paper:\n",
       "    \"Thus, for a faithful preservation of fast signal transient details,\n",
       "    such as the abrupt changes observed during a single channel\n",
       "    conductance, a large value of the weighting factor p [...] is\n",
       "    effective, whereas slow signal variations, e.g., during exponential\n",
       "    decay back to the baseline, can best be extracted with a smaller p\n",
       "    value.\" Chung1991 used values between 1 and 100.\n",
       "expected_min_step_size : float, optional\n",
       "    Low values yield wrong steps. High values yield no steps. Expected\n",
       "    minimum step size is converted into the threshold value y_c = 2/3 *\n",
       "    `expected_min_step_size` / `noise` (see [2]). Defaults to 1.\n",
       "expected_min_dwell_t : float, optional\n",
       "    The minimal dwell time (`step_spacing`), one expects to be existent in\n",
       "    the data. Used to check the filtered signal for steps. Higher values\n",
       "    lead to deletion of smaller steps, and each other closly following\n",
       "    ones, lower values lead to many FPs. Recommended: Set it to None and\n",
       "    let the algorithm automatically set the min_dwell_t, based on the\n",
       "    `filter_time`.\n",
       "step_size_threshold : str or float, optional\n",
       "    Minimum step size threshold for the deletion procedure. Following\n",
       "    values are allowed:\n",
       "    float: Take the value as a threshold for all steps. Use 0 to turn step\n",
       "        deletion off: threshold-value = number\n",
       "        NOT RECOMMENDED for serious analysis\n",
       "    'static': threshold = y_c / <noise>_data\n",
       "        Take the same threshold for all steps. Choose static if you want a\n",
       "        constant threshold for step sizes for all steps.\n",
       "    'adapt':  Calculate threshold for every step corresponding to y_c and\n",
       "        noise. threshold(step) = y_c / <noise>_data(step +-\n",
       "        min_step_spacing). BEST CHOICE: Every found step has the same\n",
       "        reliability, given by y_c.\n",
       "cap_data : bool, optional\n",
       "    Cap the data to protect the ends from be \"eaten up\" by the filtering\n",
       "    process. Defaults to True.\n",
       "verbose : bool, optional\n",
       "    Be verbose. Defaults to True.\n",
       "plot : bool, optional\n",
       "    Plot an overview of the process to find the optimum `filter_time`. And\n",
       "    additionally return the figure. Defaults to True.\n",
       "\n",
       "Returns\n",
       "-------\n",
       "StepFinderResult : namedtuple\n",
       "fig : matplotlib.pyplot.figure\n",
       "    Only returned, if parameter `plot` is set to True.\n",
       "\n",
       "Notes\n",
       "-----\n",
       "Step finder's work-steps\n",
       "========================\n",
       "The step_finder has four main work-steps:\n",
       "\n",
       "0) Find the optimum `filter_time`, by repeating work-steps 1) - 3) with\n",
       "different filter_times and analyse the results.\n",
       "\n",
       "1) Filter the data with the forward-backward non-linear filter proposed by\n",
       "Chung & Kennedy (1991, J. Neuroscience) [1].\n",
       "\n",
       "2) After that it searches for steps by comparing the difference of the\n",
       "forward and the backward filter to the noise at the current point. The\n",
       "expected_min_step_size (-> threshold y_c) and the expected_min_dwell_t\n",
       "(-> min_step_spacing, E in paper) decide wether there is a step or not. See\n",
       "Smith (1998, Phil. Trans. R. Soc. Lond. B) [2].\n",
       "\n",
       "3) In the last step, steps are being deleted when they are smaller than a\n",
       "minimum allowed step size (see parameter `step_size_threshold` and function\n",
       "`get_min_step_sizes()`). This is important, because statistical\n",
       "fluctuations can locally look like large steps, even if the plateau behind\n",
       "such a step is about the same height as the plateau before.\n",
       "\n",
       "Besides these main working steps, information about dwell time and step\n",
       "size is being calculated and the significance of a step is determined, e.g.\n",
       "if there is a constant slope in the data, the algorithm will find large\n",
       "steps.\n",
       "\n",
       "Problems:\n",
       "=========\n",
       "Classification of steps by the parameter m:\n",
       "Be aware, that there is always a systematic error coming from the feedback\n",
       "of the tweezers or other experimental errors, which the algorithm does not\n",
       "consider. The Classification Parameter m, especially the threshold y_c is\n",
       "therefore not definitely comparable for all data you analyse.\n",
       "\n",
       "Application:\n",
       "============\n",
       "See [3].\n",
       "\n",
       "Remarks:\n",
       "========\n",
       "Regarding the parameters `filter_tmin_t`, `filter_tmax_t` and\n",
       "`filter_time`:\n",
       "High values smoothen the noise, but probably also diminish the signal. Low\n",
       "values leave the signals intact, but probably do not sufficiently reduce\n",
       "the noise. Medium values smoothen the noise and leave the signals intact\n",
       "and thereby increase the SNR of the data.\n",
       "\n",
       "From [1]:\n",
       "\"The number of predictors [here filter_number] and their lengths can be\n",
       "varied. Three short pairs of the predictors used to extract exponentially\n",
       "decaying signals imbedded in the noise [...] preserved the original\n",
       "features of the signal, but the background noise was not effectively\n",
       "suppressed [...]. As the predictors of longer lengths were added [...], a\n",
       "further reduction in the noise was achieved at the expense of distorting\n",
       "the original signal. Although there are a large number of possible\n",
       "predictor combinations that can be used for processing a segment of data,\n",
       "the choice of the bank of predictors in practice is straightforward.\n",
       "Various choices of lengths of predictors should be based on the expected\n",
       "durations of signal features. If, for example, we anticipate signals of\n",
       "width 10 samples to be present in the data, then there should be at least\n",
       "one predictor whose length is less than 10 points [here you would set tmin\n",
       "to <= 10]. Naturally, if longer signal features are present, then\n",
       "correspondingly longer window predictors should be included in the bank.\n",
       "\n",
       "Regarding the parameter `expected_min_step_size`:\n",
       "For perfectly aligned Tweezers m/sqrt(min_step_spacing / 2) is the ttest\n",
       "for having NO step. As there are always systematic errors, assume t = m, so\n",
       "setting y_c to 2 makes algorithm find steps with at least 95 % reliability.\n",
       "\n",
       "\n",
       "References\n",
       "----------\n",
       "[1] Chung, S.H. & Kennedy, R.A. 1991 \"Forward-backward nonlinear filtering\n",
       "technique for extracting small biological signals from noise.\" J. Neurosci.\n",
       "Meth. 40, 71-86\n",
       "[2] Smith, D.A. 1998 \"A Quantitative Method for the Detection of Edges in\n",
       "Noisy Time-Series.\" Phil. Trans. R. Soc. Lond. B 353, 1969-1981\n",
       "[3] N.J. Carter & R.A. \"Cross 2005 Mechanics of the kinesin step.\" Nature\n",
       "435, 308-312\n",
       "\u001b[0;31mFile:\u001b[0m      ~/ZMBP/jupyter/development/tj_scripts/stepfinder/stepfinder/stepfinder.py\n",
       "\u001b[0;31mType:\u001b[0m      function\n"
      ]
     },
     "metadata": {},
     "output_type": "display_data"
    }
   ],
   "source": [
    "sf.filter_find_analyse_steps?"
   ]
  },
  {
   "cell_type": "markdown",
   "metadata": {},
   "source": [
    "## Either, simulate data with steps ..."
   ]
  },
  {
   "cell_type": "code",
   "execution_count": 3,
   "metadata": {},
   "outputs": [],
   "source": [
    "# Set parameters to simulate the steps\n",
    "duration = 1.0  # s\n",
    "resolution = 40000.0  # Hz\n",
    "dwell_time = 0.050  # s\n",
    "SNR = 0.5\n",
    "\n",
    "simulated_steps = sf.simulate_steps(duration=duration, resolution=resolution,\n",
    "                                    dwell_time=dwell_time, SNR=SNR)\n",
    "data = simulated_steps.data + simulated_steps.noise\n",
    "\n",
    "# Set parameters for filtering the data and finding steps\n",
    "filter_min_t = 0.001  # None or s\n",
    "filter_max_t = 0.020  # None or s\n",
    "expected_min_step_size = 8.0  # in values of data"
   ]
  },
  {
   "cell_type": "markdown",
   "metadata": {},
   "source": [
    "## Or, read in measured data ..."
   ]
  },
  {
   "cell_type": "code",
   "execution_count": null,
   "metadata": {},
   "outputs": [],
   "source": [
    "# Set the file to be loaded and its resolution\n",
    "filename = os.path.join('.', 'data.txt')\n",
    "resolution = 1000  # in Hz\n",
    "\n",
    "# Load the data\n",
    "data = np.loadtxt(filename, skiprows=1)[:,1]\n",
    "print('Loaded file: {}\\n  Duration: {:.3f} s\\n  Datapoints: {}'.format(filename, len(data) / resolution, len(data)))\n",
    "\n",
    "# Set parameters for filtering the data and finding steps\n",
    "filter_min_t = 0.005  # None or s\n",
    "filter_max_t = 0.050  # None or s\n",
    "expected_min_step_size = 2000.0  # in values of data"
   ]
  },
  {
   "cell_type": "markdown",
   "metadata": {},
   "source": [
    "## Filter the data, find the steps, and plot the result ..."
   ]
  },
  {
   "cell_type": "code",
   "execution_count": 4,
   "metadata": {},
   "outputs": [
    {
     "name": "stdout",
     "output_type": "stream",
     "text": [
      "\n",
      "Pre-processing and analysing filter windows: \n",
      "---------------------------------------------------------------- \n",
      "number  time(s) #length  aSNR    mSNR   STD  #outls  #pre #steps \n",
      "----------------------------------------------------------------\n",
      "    0   0.0010     40     nan     nan  0.232      0    492    67\n",
      "    1   0.0011     43   4.686   4.686  0.224      1    433    51\n",
      "    2   0.0012     47   4.553   4.553  0.214      1    371    46\n",
      "    3   0.0013     50   4.563   4.563  0.208      2    332    39\n",
      "    4   0.0014     54   4.637   4.642  0.200      4    282    34\n",
      "    5   0.0015     59   4.815   4.820  0.193      4    227    26\n",
      "    6   0.0016     63   4.833   4.703  0.187      7    199    22\n",
      "    7   0.0017     68   4.756   4.765  0.182      6    153    20\n",
      "    8   0.0019     74   4.758   4.742  0.177      9    133    18\n",
      "    9   0.0020     80   4.907   4.901  0.172     14    109    23\n",
      "   10   0.0022     86   4.840   4.821  0.169     26     98    19\n",
      "   11   0.0023     93   4.633   4.463  0.166     46     78    18\n",
      "   12   0.0025    101   4.618   4.552  0.162     63     68    19\n",
      "   13   0.0027    109   4.566   4.494  0.159    101     61    21\n",
      "   14   0.0029    117   4.566   4.474  0.157    113     49    21\n",
      "   15   0.0032    127   4.462   4.299  0.156    132     44    19\n",
      "   16   0.0034    137   4.432   4.358  0.155    126     40    21\n",
      "   17   0.0037    148   4.338   4.291  0.153    158     33    19\n",
      "   18   0.0040    159   4.275   4.262  0.152    203     29    18\n",
      "   19   0.0043    172   4.245   4.177  0.151    225     26    19\n",
      "   20   0.0046    186   4.158   4.143  0.150    299     20    18\n",
      "   21   0.0050    201   4.096   4.085  0.151    294     19    19\n",
      "   22   0.0054    217   3.994   3.935  0.149    400     19    17\n",
      "   23   0.0059    234   3.931   3.889  0.150    439     17    16\n",
      "   24   0.0063    253   3.858   3.841  0.149    565     17    16\n",
      "   25   0.0068    273   3.809   3.770  0.148    708     17    16\n",
      "   26   0.0074    295   3.761   3.737  0.150    764     17    16\n",
      "   27   0.0080    318   3.711   3.688  0.151    899     16    16\n",
      "   28   0.0086    344   3.671   3.635  0.152    990     17    16\n",
      "   29   0.0093    371   3.594   3.591  0.156   1011     17    16\n",
      "   30   0.0100    401   3.538   3.502  0.158   1154     16    16\n",
      "   31   0.0108    433   3.506   3.476  0.161   1217     16    12\n",
      "   32   0.0117    467   3.461   3.401  0.168   1063     16    12\n",
      "   33   0.0126    505   3.416   3.275  0.174   1050     16    13\n",
      "   34   0.0136    545   3.356   3.183  0.180   1051     17    12\n",
      "   35   0.0147    588   3.330   3.217  0.187    977     17    14\n",
      "   36   0.0159    635   3.375   3.327  0.197    773     16    12\n",
      "   37   0.0171    686   3.408   3.334  0.204    692     15    12\n",
      "   38   0.0185    741   3.451   3.468  0.211    572     14    12\n",
      "   39   0.0200    800   3.519   3.491  0.222    326     16    12\n",
      "-----------------------------------------------------------------\n",
      "Autoselection of `filter_time` was enabled.\n",
      "  Please, verify your results and, if necessary, adjust this parameter accordingly.\n",
      "Selected a `filter_time` (window) of 5.5 ms (l: 218) for the calculation of the step_mass (= step_size/noise).\n",
      "Absolute noise of the signal (steps excluded): 16.024\n",
      "Threshold y_c relative to the noise, for step detection: 0.333\n",
      "  y_c = 2/3 * `expected_min_step_size` / noise\n",
      "Autoselection of `min_dwell_time` was enabled.\n",
      "Selected a `min_dwell_time` (`min_step_spacing`) of 0.0054 s (l: 218) for step detection.\n",
      "Total number of steps found: 20\n",
      "Number of steps deleted: 3\n",
      "New total number of steps: 17\n"
     ]
    },
    {
     "name": "stderr",
     "output_type": "stream",
     "text": [
      "../stepfinder/stepfinder.py:1775: UserWarning: In Matplotlib 3.3 individual lines on a stem plot will be added as a LineCollection instead of individual lines. This significantly improves the performance of a stem plot. To remove this warning and switch to the new behaviour, set the \"use_line_collection\" keyword argument to True.\n",
      "  plt.stem(time[steps_pre.indices], steps_pre.step_sizes, 'c', 'c.', 'k-')\n",
      "../stepfinder/stepfinder.py:1776: UserWarning: In Matplotlib 3.3 individual lines on a stem plot will be added as a LineCollection instead of individual lines. This significantly improves the performance of a stem plot. To remove this warning and switch to the new behaviour, set the \"use_line_collection\" keyword argument to True.\n",
      "  plt.stem(time[steps.indices], steps.step_sizes, 'm', 'mo', 'k-')\n"
     ]
    },
    {
     "data": {
      "application/vnd.jupyter.widget-view+json": {
       "model_id": "bc8f8d256c4448f5a9aca07350705000",
       "version_major": 2,
       "version_minor": 0
      },
      "text/plain": [
       "Canvas(toolbar=Toolbar(toolitems=[('Home', 'Reset original view', 'home', 'home'), ('Back', 'Back to previous …"
      ]
     },
     "metadata": {},
     "output_type": "display_data"
    },
    {
     "data": {
      "application/vnd.jupyter.widget-view+json": {
       "model_id": "f98a5b882f54459b85037ecebc0e3c23",
       "version_major": 2,
       "version_minor": 0
      },
      "text/plain": [
       "Canvas(toolbar=Toolbar(toolitems=[('Home', 'Reset original view', 'home', 'home'), ('Back', 'Back to previous …"
      ]
     },
     "metadata": {},
     "output_type": "display_data"
    },
    {
     "data": {
      "application/vnd.jupyter.widget-view+json": {
       "model_id": "777e30414a0f420d9d9fb25600233a73",
       "version_major": 2,
       "version_minor": 0
      },
      "text/plain": [
       "Canvas(toolbar=Toolbar(toolitems=[('Home', 'Reset original view', 'home', 'home'), ('Back', 'Back to previous …"
      ]
     },
     "metadata": {},
     "output_type": "display_data"
    }
   ],
   "source": [
    "# Set additional parameters for filtering the data\n",
    "filter_time =  None  # None or s\n",
    "filter_number = 40  # None or number\n",
    "edginess = 1  # float\n",
    "# Set additional parameters for finding the steps\n",
    "expected_min_dwell_t = None  # None or s\n",
    "step_size_threshold = None  # None (equal to 'adapt'), 'constant', or in values of data\n",
    "\n",
    "step_finder_result, fig1 \\\n",
    "    = sf.filter_find_analyse_steps(data, resolution, filter_time, filter_min_t, filter_max_t,\n",
    "                                   filter_number, edginess,\n",
    "                                   expected_min_step_size, expected_min_dwell_t,\n",
    "                                   step_size_threshold, cap_data=True,\n",
    "                                   verbose=True, plot=True)\n",
    "\n",
    "# Plot the data and step finder result\n",
    "fig2, fig3 = sf.plot_result(step_finder_result)#, simulated_steps)\n",
    "\n",
    "plt.show(fig1)\n",
    "plt.show(fig2)\n",
    "plt.show(fig3)"
   ]
  }
 ],
 "metadata": {
  "kernelspec": {
   "display_name": "Python 3",
   "language": "python",
   "name": "python3"
  },
  "language_info": {
   "codemirror_mode": {
    "name": "ipython",
    "version": 3
   },
   "file_extension": ".py",
   "mimetype": "text/x-python",
   "name": "python",
   "nbconvert_exporter": "python",
   "pygments_lexer": "ipython3",
   "version": "3.7.3"
  },
  "widgets": {
   "application/vnd.jupyter.widget-state+json": {
    "state": {},
    "version_major": 2,
    "version_minor": 0
   }
  }
 },
 "nbformat": 4,
 "nbformat_minor": 4
}
