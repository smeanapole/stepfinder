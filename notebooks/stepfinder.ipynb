{
 "cells": [
  {
   "cell_type": "markdown",
   "metadata": {},
   "source": [
    "# Stepfinder, find steps in data with low SNR"
   ]
  },
  {
   "cell_type": "raw",
   "metadata": {},
   "source": [
    "Stepfinder, find steps in data with low SNR\n",
    "Copyright 2016,2017,2018,2019 Tobias Jachowski\n",
    "\n",
    "Licensed under the Apache License, Version 2.0 (the \"License\");\n",
    "you may not use this file except in compliance with the License.\n",
    "You may obtain a copy of the License at\n",
    "\n",
    "  http://www.apache.org/licenses/LICENSE-2.0\n",
    "\n",
    "Unless required by applicable law or agreed to in writing, software\n",
    "distributed under the License is distributed on an \"AS IS\" BASIS,\n",
    "WITHOUT WARRANTIES OR CONDITIONS OF ANY KIND, either express or implied.\n",
    "See the License for the specific language governing permissions and\n",
    "limitations under the License."
   ]
  },
  {
   "cell_type": "markdown",
   "metadata": {},
   "source": [
    "## Import stepfinder and other packages ..."
   ]
  },
  {
   "cell_type": "code",
   "execution_count": 1,
   "metadata": {},
   "outputs": [
    {
     "data": {
      "text/html": [
       "<style>.container { width:90% !important; }</style>"
      ],
      "text/plain": [
       "<IPython.core.display.HTML object>"
      ]
     },
     "metadata": {},
     "output_type": "display_data"
    }
   ],
   "source": [
    "# Import necessary modules and functions \n",
    "import matplotlib\n",
    "matplotlib.use('module://ipympl.backend_nbagg')\n",
    "import numpy as np\n",
    "import os\n",
    "from matplotlib import pyplot as plt\n",
    "\n",
    "# Import stepfinder software\n",
    "import sys\n",
    "sys.path.append('..')\n",
    "import stepfinder as sf\n",
    "\n",
    "from IPython.core.display import display, HTML\n",
    "display(HTML(\"<style>.container { width:90% !important; }</style>\"))"
   ]
  },
  {
   "cell_type": "markdown",
   "metadata": {},
   "source": [
    "## Show stepfinder usage information ..."
   ]
  },
  {
   "cell_type": "code",
   "execution_count": 2,
   "metadata": {},
   "outputs": [
    {
     "data": {
      "text/plain": [
       "\u001b[0;31mSignature:\u001b[0m\n",
       "\u001b[0msf\u001b[0m\u001b[0;34m.\u001b[0m\u001b[0mfilter_find_analyse_steps\u001b[0m\u001b[0;34m(\u001b[0m\u001b[0;34m\u001b[0m\n",
       "\u001b[0;34m\u001b[0m    \u001b[0mdata\u001b[0m\u001b[0;34m,\u001b[0m\u001b[0;34m\u001b[0m\n",
       "\u001b[0;34m\u001b[0m    \u001b[0mresolution\u001b[0m\u001b[0;34m,\u001b[0m\u001b[0;34m\u001b[0m\n",
       "\u001b[0;34m\u001b[0m    \u001b[0mfilter_time\u001b[0m\u001b[0;34m=\u001b[0m\u001b[0;32mNone\u001b[0m\u001b[0;34m,\u001b[0m\u001b[0;34m\u001b[0m\n",
       "\u001b[0;34m\u001b[0m    \u001b[0mfilter_min_t\u001b[0m\u001b[0;34m=\u001b[0m\u001b[0;32mNone\u001b[0m\u001b[0;34m,\u001b[0m\u001b[0;34m\u001b[0m\n",
       "\u001b[0;34m\u001b[0m    \u001b[0mfilter_max_t\u001b[0m\u001b[0;34m=\u001b[0m\u001b[0;32mNone\u001b[0m\u001b[0;34m,\u001b[0m\u001b[0;34m\u001b[0m\n",
       "\u001b[0;34m\u001b[0m    \u001b[0mfilter_number\u001b[0m\u001b[0;34m=\u001b[0m\u001b[0;32mNone\u001b[0m\u001b[0;34m,\u001b[0m\u001b[0;34m\u001b[0m\n",
       "\u001b[0;34m\u001b[0m    \u001b[0medginess\u001b[0m\u001b[0;34m=\u001b[0m\u001b[0;32mNone\u001b[0m\u001b[0;34m,\u001b[0m\u001b[0;34m\u001b[0m\n",
       "\u001b[0;34m\u001b[0m    \u001b[0mexpected_min_step_size\u001b[0m\u001b[0;34m=\u001b[0m\u001b[0;32mNone\u001b[0m\u001b[0;34m,\u001b[0m\u001b[0;34m\u001b[0m\n",
       "\u001b[0;34m\u001b[0m    \u001b[0mexpected_min_dwell_t\u001b[0m\u001b[0;34m=\u001b[0m\u001b[0;32mNone\u001b[0m\u001b[0;34m,\u001b[0m\u001b[0;34m\u001b[0m\n",
       "\u001b[0;34m\u001b[0m    \u001b[0mstep_size_threshold\u001b[0m\u001b[0;34m=\u001b[0m\u001b[0;32mNone\u001b[0m\u001b[0;34m,\u001b[0m\u001b[0;34m\u001b[0m\n",
       "\u001b[0;34m\u001b[0m    \u001b[0mpad_data\u001b[0m\u001b[0;34m=\u001b[0m\u001b[0;32mTrue\u001b[0m\u001b[0;34m,\u001b[0m\u001b[0;34m\u001b[0m\n",
       "\u001b[0;34m\u001b[0m    \u001b[0mverbose\u001b[0m\u001b[0;34m=\u001b[0m\u001b[0;32mTrue\u001b[0m\u001b[0;34m,\u001b[0m\u001b[0;34m\u001b[0m\n",
       "\u001b[0;34m\u001b[0m    \u001b[0mplot\u001b[0m\u001b[0;34m=\u001b[0m\u001b[0;32mTrue\u001b[0m\u001b[0;34m,\u001b[0m\u001b[0;34m\u001b[0m\n",
       "\u001b[0;34m\u001b[0m\u001b[0;34m)\u001b[0m\u001b[0;34m\u001b[0m\u001b[0;34m\u001b[0m\u001b[0m\n",
       "\u001b[0;31mDocstring:\u001b[0m\n",
       "Fiter data, find steps and analyse the steps. See notes for further\n",
       "explanation.\n",
       "\n",
       "Parameters\n",
       "----------\n",
       "data : numpy.ndarray of type float\n",
       "    data to be filtered.\n",
       "resolution : float\n",
       "    The resolution of the data in Hz.\n",
       "filter_time : float, optional\n",
       "    The filter time used to filter the data for the edge detector. Set it\n",
       "    to overwrite the automatically detected optimal filter time. Otherwise,\n",
       "    the optimal `filter_time` is automatically detected  based on the STD\n",
       "    of the step_mass from different tested filter_times (see parameters\n",
       "    `filter_min_t`, `filter_max_t` and `filter_number`)\n",
       "    You only should set the time manually, if you know that it performs\n",
       "    well with the given data. A good rule of thumb is to set the\n",
       "    filter_time to 1/2 the time of the expected minimum dwell time. Higher\n",
       "    values lead to better averaging, but can miss steps. REMARK: Shorter\n",
       "    spaced steps can still be found if step direction switches. See also\n",
       "    the parameter `expected_min_dwell_t`.\n",
       "filter_min_t : float, optional\n",
       "    The shortest time of the window in s with which the datapoints are\n",
       "    filtered.\n",
       "filter_max_t : float, optional\n",
       "    The longest time of the window in s with which the datapoints are\n",
       "    filtered. You need to also set `filter_number` to make this parameter\n",
       "    effective. Defaults to `filter_min_t`.\n",
       "filter_number : int, optional\n",
       "    Number of filters used to determine the optimal filter window length.\n",
       "    Defaults to 1.\n",
       "edginess : float, optional\n",
       "    The edginess (nonlinearity factor p in Chung1991) of the filtered data.\n",
       "    The edginess only affects the filtered data, but not the detection of\n",
       "    the steps itself. An edginess of 0 will smooth out edges, like a simple\n",
       "    moving mean filter. A higher edginess will preserve edges. A too high\n",
       "    edginess will cause ripples due to amplification of edges of noise.\n",
       "    From the paper:\n",
       "    \"Thus, for a faithful preservation of fast signal transient details,\n",
       "    such as the abrupt changes observed during a single channel\n",
       "    conductance, a large value of the weighting factor p [...] is\n",
       "    effective, whereas slow signal variations, e.g., during exponential\n",
       "    decay back to the baseline, can best be extracted with a smaller p\n",
       "    value.\" Chung1991 used values between 1 and 100.\n",
       "expected_min_step_size : float, optional\n",
       "    Low values yield wrong steps. High values yield no steps. Expected\n",
       "    minimum step size determines the threshold value y_c = 2/3 *\n",
       "    `expected_min_step_size` / `noise` (see [2]). Defaults to y_c = 2/3.\n",
       "expected_min_dwell_t : float, optional\n",
       "    The minimal dwell time (`step_spacing`), one expects to be existent in\n",
       "    the data. Used to check the filtered signal for steps. Higher values\n",
       "    lead to deletion of smaller steps, and each other closly following\n",
       "    ones, lower values lead to many FPs. Recommended: Set it to None and\n",
       "    let the algorithm automatically set the min_dwell_t, based on the\n",
       "    `filter_time`.\n",
       "step_size_threshold : str or float, optional\n",
       "    Minimum step size threshold for the deletion procedure. Following\n",
       "    values are allowed:\n",
       "    float: Take the value as a threshold for all steps. Use 0 to turn step\n",
       "        deletion off: threshold-value = number\n",
       "        NOT RECOMMENDED for serious analysis\n",
       "    'static': threshold = y_c / <noise>_data\n",
       "        Take the same threshold for all steps. Choose static if you want a\n",
       "        constant threshold for step sizes for all steps.\n",
       "    'adapt':  Calculate threshold for every step corresponding to y_c and\n",
       "        noise. threshold(step) = y_c / <noise>_data(step +-\n",
       "        min_step_spacing). BEST CHOICE: Every found step has the same\n",
       "        reliability, given by y_c.\n",
       "pad_data : bool, optional\n",
       "    Pad the data to protect the ends from be \"eaten up\" by the filtering\n",
       "    process. Defaults to True.\n",
       "verbose : bool, optional\n",
       "    Be verbose. Defaults to True.\n",
       "plot : bool, optional\n",
       "    Plot an overview of the process to find the optimum `filter_time`. And\n",
       "    additionally return the figure. Defaults to True.\n",
       "\n",
       "Returns\n",
       "-------\n",
       "StepFinderResult : namedtuple\n",
       "fig : matplotlib.pyplot.figure\n",
       "    Only returned, if parameter `plot` is set to True.\n",
       "\n",
       "Notes\n",
       "-----\n",
       "Step finder's work-steps\n",
       "========================\n",
       "The step_finder has four main work-steps:\n",
       "\n",
       "0) Find the optimum `filter_time`, by repeating work-steps 1) - 3) with\n",
       "different filter_times and analyse the results.\n",
       "\n",
       "1) Filter the data with the forward-backward non-linear filter proposed by\n",
       "Chung & Kennedy (1991, J. Neuroscience) [1].\n",
       "\n",
       "2) After that it searches for steps by comparing the difference of the\n",
       "forward and the backward filter to the noise at the current point. The\n",
       "expected_min_step_size (-> threshold y_c) and the expected_min_dwell_t\n",
       "(-> min_step_spacing, E in paper) decide wether there is a step or not. See\n",
       "Smith (1998, Phil. Trans. R. Soc. Lond. B) [2].\n",
       "\n",
       "3) In the last step, steps are being deleted when they are smaller than a\n",
       "minimum allowed step size (see parameter `step_size_threshold` and function\n",
       "`get_min_step_sizes()`). This is important, because statistical\n",
       "fluctuations can locally look like large steps, even if the plateau behind\n",
       "such a step is about the same height as the plateau before.\n",
       "\n",
       "Besides these main working steps, information about dwell time and step\n",
       "size is being calculated and the significance of a step is determined, e.g.\n",
       "if there is a constant slope in the data, the algorithm will find large\n",
       "steps.\n",
       "\n",
       "Problems:\n",
       "=========\n",
       "Classification of steps by the parameter m:\n",
       "Be aware, that there is always a systematic error coming from the feedback\n",
       "of the tweezers or other experimental errors, which the algorithm does not\n",
       "consider. The Classification Parameter m, especially the threshold y_c is\n",
       "therefore not definitely comparable for all data you analyse.\n",
       "\n",
       "Application:\n",
       "============\n",
       "See [3].\n",
       "\n",
       "Remarks:\n",
       "========\n",
       "Regarding the parameters `filter_tmin_t`, `filter_tmax_t` and\n",
       "`filter_time`:\n",
       "High values smoothen the noise, but probably also diminish the signal. Low\n",
       "values leave the signals intact, but probably do not sufficiently reduce\n",
       "the noise. Medium values smoothen the noise and leave the signals intact\n",
       "and thereby increase the SNR of the data.\n",
       "\n",
       "From [1]:\n",
       "\"The number of predictors [here only 1 forward and 1 backward] and their\n",
       "lengths can be varied. Three short pairs of the predictors used to extract\n",
       "exponentially decaying signals imbedded in the noise [...] preserved the\n",
       "original features of the signal, but the background noise was not\n",
       "effectively suppressed [...]. As the predictors of longer lengths were\n",
       "added [...], a further reduction in the noise was achieved at the expense\n",
       "of distorting the original signal. Although there are a large number of\n",
       "possible predictor combinations that can be used for processing a segment\n",
       "of data, the choice of the bank of predictors in practice is\n",
       "straightforward. Various choices of lengths of predictors should be based\n",
       "on the expected durations of signal features. If, for example, we\n",
       "anticipate signals of width 10 samples to be present in the data, then\n",
       "there should be at least one predictor whose length is less than 10 points\n",
       "[here you would set tmin to <= 10]. Naturally, if longer signal features\n",
       "are present, then correspondingly longer window predictors should be\n",
       "included in the bank.\n",
       "\n",
       "Regarding the parameter `expected_min_step_size` (which determines the\n",
       "threshold for step detection y_c):\n",
       "For perfectly aligned Tweezers m/sqrt(min_step_spacing / 2) is the ttest\n",
       "for having NO step. As there are always systematic errors, assume t = m, so\n",
       "setting the threshold for step detection y_c to 2 makes the algorithm find\n",
       "steps with at least 95 % reliability.\n",
       "\n",
       "\n",
       "References\n",
       "----------\n",
       "[1] Chung, S.H. & Kennedy, R.A. 1991 \"Forward-backward nonlinear filtering\n",
       "technique for extracting small biological signals from noise.\" J. Neurosci.\n",
       "Meth. 40, 71-86\n",
       "[2] Smith, D.A. 1998 \"A Quantitative Method for the Detection of Edges in\n",
       "Noisy Time-Series.\" Phil. Trans. R. Soc. Lond. B 353, 1969-1981\n",
       "[3] N.J. Carter & R.A. \"Cross 2005 Mechanics of the kinesin step.\" Nature\n",
       "435, 308-312\n",
       "\u001b[0;31mFile:\u001b[0m      ~/Syncthing/ZMBP/software_development/python/tj_scripts/stepfinder/stepfinder/stepfinder.py\n",
       "\u001b[0;31mType:\u001b[0m      function\n"
      ]
     },
     "metadata": {},
     "output_type": "display_data"
    }
   ],
   "source": [
    "sf.filter_find_analyse_steps?"
   ]
  },
  {
   "cell_type": "markdown",
   "metadata": {},
   "source": [
    "## Either, simulate data with steps ..."
   ]
  },
  {
   "cell_type": "code",
   "execution_count": null,
   "metadata": {},
   "outputs": [],
   "source": [
    "# Set parameters to simulate the steps\n",
    "duration = 1.0  # s\n",
    "resolution = 40000.0  # Hz\n",
    "dwell_time = 0.050  # s\n",
    "SNR = 0.5\n",
    "\n",
    "simulated_steps = sf.simulate_steps(duration=duration, resolution=resolution,\n",
    "                                    dwell_time=dwell_time, SNR=SNR)\n",
    "data = simulated_steps.data + simulated_steps.noise\n",
    "\n",
    "# Set parameters for filtering the data and finding steps\n",
    "filter_min_t = 0.001  # None or s\n",
    "filter_max_t = 0.020  # None or s\n",
    "expected_min_step_size = 8.0  # in values of data"
   ]
  },
  {
   "cell_type": "markdown",
   "metadata": {},
   "source": [
    "## Or, read in measured data ..."
   ]
  },
  {
   "cell_type": "code",
   "execution_count": null,
   "metadata": {},
   "outputs": [],
   "source": [
    "# Set the file to be loaded and its resolution\n",
    "filename = os.path.join('.', 'data.txt')\n",
    "resolution = 1000  # in Hz\n",
    "\n",
    "# Load the data\n",
    "data = np.loadtxt(filename, skiprows=1)[:,1]\n",
    "print('Loaded file: {}\\n  Duration: {:.3f} s\\n  Datapoints: {}'.format(filename, len(data) / resolution, len(data)))\n",
    "\n",
    "# Set parameters for filtering the data and finding steps\n",
    "filter_min_t = 0.005  # None or s\n",
    "filter_max_t = 0.050  # None or s\n",
    "expected_min_step_size = 2000.0  # in values of data"
   ]
  },
  {
   "cell_type": "markdown",
   "metadata": {},
   "source": [
    "## Filter the data, find the steps, and plot the result ..."
   ]
  },
  {
   "cell_type": "code",
   "execution_count": null,
   "metadata": {},
   "outputs": [],
   "source": [
    "# Set additional parameters for filtering the data\n",
    "filter_time =  None  # None or s\n",
    "filter_number = 40  # None or number\n",
    "edginess = 1  # float\n",
    "# Set additional parameters for finding the steps\n",
    "expected_min_dwell_t = None  # None or s\n",
    "step_size_threshold = None  # None (equal to 'adapt'), 'constant', or in values of data\n",
    "\n",
    "step_finder_result, fig1 \\\n",
    "    = sf.filter_find_analyse_steps(data, resolution, filter_time, filter_min_t, filter_max_t,\n",
    "                                   filter_number, edginess,\n",
    "                                   expected_min_step_size, expected_min_dwell_t,\n",
    "                                   step_size_threshold, pad_data=True,\n",
    "                                   verbose=True, plot=True)\n",
    "\n",
    "# Plot the data and step finder result\n",
    "fig2, fig3 = sf.plot_result(step_finder_result)#, simulated_steps)\n",
    "\n",
    "plt.show(fig1)\n",
    "plt.show(fig2)\n",
    "plt.show(fig3)"
   ]
  }
 ],
 "metadata": {
  "kernelspec": {
   "display_name": "Python 3",
   "language": "python",
   "name": "python3"
  },
  "language_info": {
   "codemirror_mode": {
    "name": "ipython",
    "version": 3
   },
   "file_extension": ".py",
   "mimetype": "text/x-python",
   "name": "python",
   "nbconvert_exporter": "python",
   "pygments_lexer": "ipython3",
   "version": "3.8.6"
  },
  "widgets": {
   "application/vnd.jupyter.widget-state+json": {
    "state": {},
    "version_major": 2,
    "version_minor": 0
   }
  }
 },
 "nbformat": 4,
 "nbformat_minor": 4
}
